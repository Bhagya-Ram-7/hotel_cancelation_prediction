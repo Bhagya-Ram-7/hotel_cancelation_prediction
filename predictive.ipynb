{
 "cells": [
  {
   "cell_type": "code",
   "execution_count": 48,
   "id": "fdd27ded-477d-47ad-9369-f4392c700958",
   "metadata": {},
   "outputs": [],
   "source": [
    "import pandas as pd\n",
    "import numpy as np\n",
    "import seaborn as sns\n",
    "import matplotlib.pyplot as plt\n",
    "from statsmodels.stats.outliers_influence import variance_inflation_factor\n",
    "from sklearn.model_selection import train_test_split\n",
    "from sklearn.preprocessing import OneHotEncoder, StandardScaler\n",
    "from sklearn.linear_model import LogisticRegression\n",
    "from sklearn.metrics import accuracy_score, classification_report"
   ]
  },
  {
   "cell_type": "markdown",
   "id": "c5f32848-12dd-4788-bc07-100f76060e00",
   "metadata": {},
   "source": [
    "#### Loading the dataset"
   ]
  },
  {
   "cell_type": "code",
   "execution_count": 3,
   "id": "a676fcd2-d777-40ca-9ee6-570450671e2c",
   "metadata": {},
   "outputs": [
    {
     "data": {
      "text/plain": [
       "Index(['hotel', 'is_canceled', 'lead_time', 'arrival_date_year',\n",
       "       'arrival_date_month', 'arrival_date_week_number',\n",
       "       'arrival_date_day_of_month', 'stays_in_weekend_nights',\n",
       "       'stays_in_week_nights', 'adults', 'children', 'babies', 'meal',\n",
       "       'country', 'market_segment', 'distribution_channel',\n",
       "       'is_repeated_guest', 'previous_cancellations',\n",
       "       'previous_bookings_not_canceled', 'reserved_room_type',\n",
       "       'assigned_room_type', 'booking_changes', 'deposit_type', 'agent',\n",
       "       'company', 'days_in_waiting_list', 'customer_type', 'adr',\n",
       "       'required_car_parking_spaces', 'total_of_special_requests',\n",
       "       'reservation_status', 'reservation_status_date'],\n",
       "      dtype='object')"
      ]
     },
     "execution_count": 3,
     "metadata": {},
     "output_type": "execute_result"
    }
   ],
   "source": [
    "data = pd.read_csv('hotel_bookings.csv')\n",
    "data.columns"
   ]
  },
  {
   "cell_type": "markdown",
   "id": "196f5d60-a702-4de4-989e-f50fbf43ff3f",
   "metadata": {},
   "source": [
    "#### EDA & preprocessing"
   ]
  },
  {
   "cell_type": "code",
   "execution_count": 26,
   "id": "2186460d-25c8-40e5-b892-23fc684e2f48",
   "metadata": {},
   "outputs": [
    {
     "name": "stdout",
     "output_type": "stream",
     "text": [
      "<class 'pandas.core.frame.DataFrame'>\n",
      "RangeIndex: 119390 entries, 0 to 119389\n",
      "Data columns (total 32 columns):\n",
      " #   Column                          Non-Null Count   Dtype  \n",
      "---  ------                          --------------   -----  \n",
      " 0   hotel                           119390 non-null  object \n",
      " 1   is_canceled                     119390 non-null  int64  \n",
      " 2   lead_time                       119390 non-null  int64  \n",
      " 3   arrival_date_year               119390 non-null  int64  \n",
      " 4   arrival_date_month              119390 non-null  object \n",
      " 5   arrival_date_week_number        119390 non-null  int64  \n",
      " 6   arrival_date_day_of_month       119390 non-null  int64  \n",
      " 7   stays_in_weekend_nights         119390 non-null  int64  \n",
      " 8   stays_in_week_nights            119390 non-null  int64  \n",
      " 9   adults                          119390 non-null  int64  \n",
      " 10  children                        119386 non-null  float64\n",
      " 11  babies                          119390 non-null  int64  \n",
      " 12  meal                            119390 non-null  object \n",
      " 13  country                         118902 non-null  object \n",
      " 14  market_segment                  119390 non-null  object \n",
      " 15  distribution_channel            119390 non-null  object \n",
      " 16  is_repeated_guest               119390 non-null  int64  \n",
      " 17  previous_cancellations          119390 non-null  int64  \n",
      " 18  previous_bookings_not_canceled  119390 non-null  int64  \n",
      " 19  reserved_room_type              119390 non-null  object \n",
      " 20  assigned_room_type              119390 non-null  object \n",
      " 21  booking_changes                 119390 non-null  int64  \n",
      " 22  deposit_type                    119390 non-null  object \n",
      " 23  agent                           103050 non-null  float64\n",
      " 24  company                         6797 non-null    float64\n",
      " 25  days_in_waiting_list            119390 non-null  int64  \n",
      " 26  customer_type                   119390 non-null  object \n",
      " 27  adr                             119390 non-null  float64\n",
      " 28  required_car_parking_spaces     119390 non-null  int64  \n",
      " 29  total_of_special_requests       119390 non-null  int64  \n",
      " 30  reservation_status              119390 non-null  object \n",
      " 31  reservation_status_date         119390 non-null  object \n",
      "dtypes: float64(4), int64(16), object(12)\n",
      "memory usage: 29.1+ MB\n"
     ]
    }
   ],
   "source": [
    "data.info()"
   ]
  },
  {
   "cell_type": "code",
   "execution_count": 27,
   "id": "7f898df7-1c91-47e4-8d2f-b1f20ebb859c",
   "metadata": {},
   "outputs": [
    {
     "data": {
      "text/plain": [
       "0           NaN\n",
       "1           NaN\n",
       "2           NaN\n",
       "3         304.0\n",
       "4         240.0\n",
       "          ...  \n",
       "119385    394.0\n",
       "119386      9.0\n",
       "119387      9.0\n",
       "119388     89.0\n",
       "119389      9.0\n",
       "Name: agent, Length: 119390, dtype: float64"
      ]
     },
     "execution_count": 27,
     "metadata": {},
     "output_type": "execute_result"
    }
   ],
   "source": [
    "data['agent']"
   ]
  },
  {
   "cell_type": "code",
   "execution_count": 10,
   "id": "f3914526-9c9d-4fd6-b3e0-0a236464db83",
   "metadata": {},
   "outputs": [
    {
     "data": {
      "text/plain": [
       "is_canceled\n",
       "0    75166\n",
       "1    44224\n",
       "Name: count, dtype: int64"
      ]
     },
     "execution_count": 10,
     "metadata": {},
     "output_type": "execute_result"
    }
   ],
   "source": [
    "data['is_canceled'].value_counts()"
   ]
  },
  {
   "cell_type": "code",
   "execution_count": 4,
   "id": "386b412f-b80a-4d44-906f-6f7f215b4c88",
   "metadata": {},
   "outputs": [
    {
     "data": {
      "text/plain": [
       "hotel                                  0\n",
       "is_canceled                            0\n",
       "lead_time                              0\n",
       "arrival_date_year                      0\n",
       "arrival_date_month                     0\n",
       "arrival_date_week_number               0\n",
       "arrival_date_day_of_month              0\n",
       "stays_in_weekend_nights                0\n",
       "stays_in_week_nights                   0\n",
       "adults                                 0\n",
       "children                               4\n",
       "babies                                 0\n",
       "meal                                   0\n",
       "country                              488\n",
       "market_segment                         0\n",
       "distribution_channel                   0\n",
       "is_repeated_guest                      0\n",
       "previous_cancellations                 0\n",
       "previous_bookings_not_canceled         0\n",
       "reserved_room_type                     0\n",
       "assigned_room_type                     0\n",
       "booking_changes                        0\n",
       "deposit_type                           0\n",
       "agent                              16340\n",
       "company                           112593\n",
       "days_in_waiting_list                   0\n",
       "customer_type                          0\n",
       "adr                                    0\n",
       "required_car_parking_spaces            0\n",
       "total_of_special_requests              0\n",
       "reservation_status                     0\n",
       "reservation_status_date                0\n",
       "dtype: int64"
      ]
     },
     "execution_count": 4,
     "metadata": {},
     "output_type": "execute_result"
    }
   ],
   "source": [
    "data.isnull().sum() "
   ]
  },
  {
   "cell_type": "code",
   "execution_count": 28,
   "id": "b8de147e-fb49-4e7a-92b8-7404aff14e7d",
   "metadata": {},
   "outputs": [
    {
     "data": {
      "text/plain": [
       "(119390, 29)"
      ]
     },
     "execution_count": 28,
     "metadata": {},
     "output_type": "execute_result"
    }
   ],
   "source": [
    "copy = data.copy()\n",
    "copy.drop(columns=['agent', 'company', 'country'], inplace=True)\n",
    "copy.shape"
   ]
  },
  {
   "cell_type": "code",
   "execution_count": 42,
   "id": "57266201-b687-47d7-afeb-efbcd5b530d1",
   "metadata": {},
   "outputs": [
    {
     "data": {
      "text/plain": [
       "numpy.int32"
      ]
     },
     "execution_count": 42,
     "metadata": {},
     "output_type": "execute_result"
    }
   ],
   "source": [
    "copy['children'].value_counts()\n",
    "copy['children']=copy['children'].fillna(0)\n",
    "copy['children'] = copy['children'].astype('int')\n",
    "type(copy['children'][0])"
   ]
  },
  {
   "cell_type": "code",
   "execution_count": 22,
   "id": "da0edf2d-e911-4fb8-8e1a-233762ae9759",
   "metadata": {},
   "outputs": [
    {
     "data": {
      "image/png": "[encoded data removed]",
      "text/plain": [
       "<Figure size 640x480 with 1 Axes>"
      ]
     },
     "metadata": {},
     "output_type": "display_data"
    }
   ],
   "source": [
    "sns.countplot(x=copy['is_canceled'])\n",
    "plt.show()"
   ]
  },
  {
   "cell_type": "code",
   "execution_count": 81,
   "id": "83bd3f4a-4443-4d14-b806-be84793935b4",
   "metadata": {},
   "outputs": [
    {
     "data": {
      "text/plain": [
       "arrival_date_month\n",
       "April        0.592028\n",
       "August       0.622469\n",
       "December     0.650295\n",
       "February     0.665840\n",
       "January      0.695227\n",
       "July         0.625464\n",
       "June         0.585428\n",
       "March        0.678477\n",
       "May          0.603342\n",
       "November     0.687666\n",
       "October      0.619534\n",
       "September    0.608298\n",
       "Name: is_canceled, dtype: float64"
      ]
     },
     "execution_count": 81,
     "metadata": {},
     "output_type": "execute_result"
    }
   ],
   "source": [
    "data.groupby('arrival_date_month')['is_canceled'].apply(lambda x: (x == 0).mean())"
   ]
  },
  {
   "cell_type": "markdown",
   "id": "9524e2c6-dcde-4227-ad24-60b5ee96b662",
   "metadata": {},
   "source": [
    "Below is a bar plot showing the aggregated cancelation rates from each month across hotels and years."
   ]
  },
  {
   "cell_type": "code",
   "execution_count": 88,
   "id": "0cbc1da9-ed93-411e-8f1e-fb9db8c1e331",
   "metadata": {},
   "outputs": [
    {
     "name": "stderr",
     "output_type": "stream",
     "text": [
      "C:\\Users\\Bhagya\\AppData\\Local\\Temp\\ipykernel_26820\\1810985582.py:4: FutureWarning: The default of observed=False is deprecated and will be changed to True in a future version of pandas. Pass observed=False to retain current behavior or observed=True to adopt the future default and silence this warning.\n",
      "  cancel_rate = df.groupby('arrival_date_month')['is_canceled'].mean().reindex(month_order)\n"
     ]
    },
    {
     "data": {
      "image/png": "[encoded data removed]",
      "text/plain": [
       "<Figure size 640x480 with 1 Axes>"
      ]
     },
     "metadata": {},
     "output_type": "display_data"
    }
   ],
   "source": [
    "month_order = ['January', 'February', 'March', 'April', 'May', 'June', \n",
    "               'July', 'August', 'September', 'October', 'November', 'December']\n",
    "data['arrival_date_month'] = pd.Categorical(data['arrival_date_month'], categories=month_order, ordered=True)\n",
    "cancel_rate = df.groupby('arrival_date_month')['is_canceled'].mean().reindex(month_order)\n",
    "sns.barplot(x=cancellation_rate.index, y=cancellation_rate.values, alpha=0.6, label=\"Cancellation Rate\")\n",
    "sns.lineplot(x=cancellation_rate.index, y=cancellation_rate.values, color='red', linewidth=2, label=\"Trend\")\n",
    "plt.xlabel(\"Month\")\n",
    "plt.ylim(0, 1)\n",
    "plt.ylabel(\"Cancellation Rate\")\n",
    "plt.title(\"Canceled Bookings by Month\")\n",
    "plt.xticks(rotation=45) \n",
    "plt.legend()\n",
    "plt.show()"
   ]
  },
  {
   "cell_type": "markdown",
   "id": "6326ba4d-4fea-41d3-ae8d-30a470c1428a",
   "metadata": {},
   "source": [
    "#### Multicollinearity check"
   ]
  },
  {
   "cell_type": "code",
   "execution_count": 45,
   "id": "0220df2f-aaac-4c01-8ec0-bb2f19b27c83",
   "metadata": {},
   "outputs": [
    {
     "name": "stdout",
     "output_type": "stream",
     "text": [
      "Feature    0\n",
      "dtype: int64\n"
     ]
    },
    {
     "data": {
      "text/html": [
       "<div>\n",
       "<style scoped>\n",
       "    .dataframe tbody tr th:only-of-type {\n",
       "        vertical-align: middle;\n",
       "    }\n",
       "\n",
       "    .dataframe tbody tr th {\n",
       "        vertical-align: top;\n",
       "    }\n",
       "\n",
       "    .dataframe thead th {\n",
       "        text-align: right;\n",
       "    }\n",
       "</style>\n",
       "<table border=\"1\" class=\"dataframe\">\n",
       "  <thead>\n",
       "    <tr style=\"text-align: right;\">\n",
       "      <th></th>\n",
       "      <th>Feature</th>\n",
       "      <th>VIF</th>\n",
       "    </tr>\n",
       "  </thead>\n",
       "  <tbody>\n",
       "    <tr>\n",
       "      <th>0</th>\n",
       "      <td>lead_time</td>\n",
       "      <td>2.226524</td>\n",
       "    </tr>\n",
       "    <tr>\n",
       "      <th>1</th>\n",
       "      <td>arrival_date_year</td>\n",
       "      <td>21.351778</td>\n",
       "    </tr>\n",
       "    <tr>\n",
       "      <th>2</th>\n",
       "      <td>arrival_date_week_number</td>\n",
       "      <td>5.137844</td>\n",
       "    </tr>\n",
       "    <tr>\n",
       "      <th>3</th>\n",
       "      <td>arrival_date_day_of_month</td>\n",
       "      <td>4.269930</td>\n",
       "    </tr>\n",
       "    <tr>\n",
       "      <th>4</th>\n",
       "      <td>stays_in_weekend_nights</td>\n",
       "      <td>2.506617</td>\n",
       "    </tr>\n",
       "    <tr>\n",
       "      <th>5</th>\n",
       "      <td>stays_in_week_nights</td>\n",
       "      <td>3.745507</td>\n",
       "    </tr>\n",
       "    <tr>\n",
       "      <th>6</th>\n",
       "      <td>adults</td>\n",
       "      <td>12.579161</td>\n",
       "    </tr>\n",
       "    <tr>\n",
       "      <th>7</th>\n",
       "      <td>children</td>\n",
       "      <td>1.203921</td>\n",
       "    </tr>\n",
       "    <tr>\n",
       "      <th>8</th>\n",
       "      <td>babies</td>\n",
       "      <td>1.024092</td>\n",
       "    </tr>\n",
       "    <tr>\n",
       "      <th>9</th>\n",
       "      <td>is_repeated_guest</td>\n",
       "      <td>1.304210</td>\n",
       "    </tr>\n",
       "    <tr>\n",
       "      <th>10</th>\n",
       "      <td>previous_cancellations</td>\n",
       "      <td>1.053168</td>\n",
       "    </tr>\n",
       "    <tr>\n",
       "      <th>11</th>\n",
       "      <td>previous_bookings_not_canceled</td>\n",
       "      <td>1.251550</td>\n",
       "    </tr>\n",
       "    <tr>\n",
       "      <th>12</th>\n",
       "      <td>booking_changes</td>\n",
       "      <td>1.147622</td>\n",
       "    </tr>\n",
       "    <tr>\n",
       "      <th>13</th>\n",
       "      <td>days_in_waiting_list</td>\n",
       "      <td>1.058690</td>\n",
       "    </tr>\n",
       "    <tr>\n",
       "      <th>14</th>\n",
       "      <td>adr</td>\n",
       "      <td>6.270582</td>\n",
       "    </tr>\n",
       "    <tr>\n",
       "      <th>15</th>\n",
       "      <td>required_car_parking_spaces</td>\n",
       "      <td>1.099890</td>\n",
       "    </tr>\n",
       "    <tr>\n",
       "      <th>16</th>\n",
       "      <td>total_of_special_requests</td>\n",
       "      <td>1.640207</td>\n",
       "    </tr>\n",
       "  </tbody>\n",
       "</table>\n",
       "</div>"
      ],
      "text/plain": [
       "                           Feature        VIF\n",
       "0                        lead_time   2.226524\n",
       "1                arrival_date_year  21.351778\n",
       "2         arrival_date_week_number   5.137844\n",
       "3        arrival_date_day_of_month   4.269930\n",
       "4          stays_in_weekend_nights   2.506617\n",
       "5             stays_in_week_nights   3.745507\n",
       "6                           adults  12.579161\n",
       "7                         children   1.203921\n",
       "8                           babies   1.024092\n",
       "9                is_repeated_guest   1.304210\n",
       "10          previous_cancellations   1.053168\n",
       "11  previous_bookings_not_canceled   1.251550\n",
       "12                 booking_changes   1.147622\n",
       "13            days_in_waiting_list   1.058690\n",
       "14                             adr   6.270582\n",
       "15     required_car_parking_spaces   1.099890\n",
       "16       total_of_special_requests   1.640207"
      ]
     },
     "execution_count": 45,
     "metadata": {},
     "output_type": "execute_result"
    }
   ],
   "source": [
    "covariates = copy.select_dtypes(include=[np.number]).drop(columns=['is_canceled'])\n",
    "vif_data = pd.DataFrame()\n",
    "vif_data[\"Feature\"] = covariates.columns\n",
    "#print(vif_data.isnull().sum())\n",
    "vif_data[\"VIF\"] = [variance_inflation_factor(covariates.values, i) for i in range(len(covariates.columns))]\n",
    "vif_data\n",
    "#print(vif_data)\n"
   ]
  },
  {
   "cell_type": "code",
   "execution_count": 46,
   "id": "d4c06fbe-7164-41af-b8a5-d6f4cb68f41c",
   "metadata": {},
   "outputs": [
    {
     "data": {
      "text/plain": [
       "Index(['hotel', 'is_canceled', 'lead_time', 'arrival_date_month',\n",
       "       'arrival_date_day_of_month', 'stays_in_weekend_nights',\n",
       "       'stays_in_week_nights', 'children', 'babies', 'meal', 'market_segment',\n",
       "       'distribution_channel', 'is_repeated_guest', 'previous_cancellations',\n",
       "       'previous_bookings_not_canceled', 'reserved_room_type',\n",
       "       'assigned_room_type', 'booking_changes', 'deposit_type',\n",
       "       'days_in_waiting_list', 'customer_type', 'required_car_parking_spaces',\n",
       "       'total_of_special_requests', 'reservation_status',\n",
       "       'reservation_status_date'],\n",
       "      dtype='object')"
      ]
     },
     "execution_count": 46,
     "metadata": {},
     "output_type": "execute_result"
    }
   ],
   "source": [
    "#Based on VIFs above, it makes sense to remove adr, adults, arrival_date_year, arrival_date_week_number to avoid multicollinearity\n",
    "\n",
    "copy.drop(columns=['arrival_date_year', 'arrival_date_week_number', 'adults', 'adr'], inplace=True)"
   ]
  },
  {
   "cell_type": "markdown",
   "id": "886bfa71-93c0-4e12-ab5c-87829110cc29",
   "metadata": {},
   "source": [
    "#### Baseline model (logistic regression)"
   ]
  },
  {
   "cell_type": "code",
   "execution_count": 47,
   "id": "e246b382-9e9f-4f19-b5d9-03b33b9b3a6b",
   "metadata": {},
   "outputs": [
    {
     "data": {
      "text/plain": [
       "Index(['hotel', 'is_canceled', 'lead_time', 'arrival_date_month',\n",
       "       'arrival_date_day_of_month', 'stays_in_weekend_nights',\n",
       "       'stays_in_week_nights', 'children', 'babies', 'meal', 'market_segment',\n",
       "       'distribution_channel', 'is_repeated_guest', 'previous_cancellations',\n",
       "       'previous_bookings_not_canceled', 'reserved_room_type',\n",
       "       'assigned_room_type', 'booking_changes', 'deposit_type',\n",
       "       'days_in_waiting_list', 'customer_type', 'required_car_parking_spaces',\n",
       "       'total_of_special_requests', 'reservation_status',\n",
       "       'reservation_status_date'],\n",
       "      dtype='object')"
      ]
     },
     "execution_count": 47,
     "metadata": {},
     "output_type": "execute_result"
    }
   ],
   "source": [
    "copy.columns"
   ]
  },
  {
   "cell_type": "code",
   "execution_count": 51,
   "id": "4d6c4141-cb7d-405e-bc5c-909fbf882668",
   "metadata": {},
   "outputs": [
    {
     "data": {
      "text/plain": [
       "hotel                             object\n",
       "is_canceled                        int64\n",
       "lead_time                          int64\n",
       "arrival_date_month                object\n",
       "arrival_date_day_of_month          int64\n",
       "stays_in_weekend_nights            int64\n",
       "stays_in_week_nights               int64\n",
       "children                           int32\n",
       "babies                             int64\n",
       "meal                              object\n",
       "market_segment                    object\n",
       "distribution_channel              object\n",
       "is_repeated_guest                  int64\n",
       "previous_cancellations             int64\n",
       "previous_bookings_not_canceled     int64\n",
       "reserved_room_type                object\n",
       "assigned_room_type                object\n",
       "booking_changes                    int64\n",
       "deposit_type                      object\n",
       "days_in_waiting_list               int64\n",
       "customer_type                     object\n",
       "required_car_parking_spaces        int64\n",
       "total_of_special_requests          int64\n",
       "reservation_status                object\n",
       "reservation_status_date           object\n",
       "dtype: object"
      ]
     },
     "execution_count": 51,
     "metadata": {},
     "output_type": "execute_result"
    }
   ],
   "source": [
    "copy.dtypes"
   ]
  },
  {
   "cell_type": "code",
   "execution_count": 75,
   "id": "8723f7f1-1b7a-4a18-b005-26815c435ad1",
   "metadata": {},
   "outputs": [
    {
     "name": "stdout",
     "output_type": "stream",
     "text": [
      "              precision    recall  f1-score   support\n",
      "\n",
      "           0       0.80      0.93      0.86     15033\n",
      "           1       0.83      0.61      0.70      8845\n",
      "\n",
      "    accuracy                           0.81     23878\n",
      "   macro avg       0.82      0.77      0.78     23878\n",
      "weighted avg       0.81      0.81      0.80     23878\n",
      "\n"
     ]
    }
   ],
   "source": [
    "categorical_cols = copy.select_dtypes(include=['object']).columns\n",
    "categorical_cols = categorical_cols.difference(['is_canceled', 'reservation_status', 'reservation_status_date'])\n",
    "df_encoded = pd.get_dummies(copy, columns=categorical_cols, drop_first=True)\n",
    "int_cols = copy.select_dtypes(include=['int64', 'int32'])\n",
    "df_final = pd.concat([int_cols, df_encoded], axis=1)\n",
    "\n",
    "X = df_final.drop(columns=['is_canceled', 'reservation_status', 'reservation_status_date'])\n",
    "y = copy['is_canceled']\n",
    "X_train, X_test, y_train, y_test = train_test_split(X, y, test_size=0.2, random_state=42, stratify=y)\n",
    "scaler = StandardScaler()\n",
    "X_train_scaled = scaler.fit_transform(X_train)\n",
    "X_test_scaled = scaler.transform(X_test)\n",
    "logreg = LogisticRegression()\n",
    "logreg.fit(X_train_scaled, y_train)\n",
    "y_pred = logreg.predict(X_test_scaled)\n",
    "print(classification_report(y_test, y_pred))"
   ]
  },
  {
   "cell_type": "markdown",
   "id": "23db479c-e134-4eea-93dd-b36e467bb361",
   "metadata": {},
   "source": [
    "This yields an accuracy of 81%. "
   ]
  },
  {
   "cell_type": "code",
   "execution_count": null,
   "id": "1ac15bc2-0a45-4d79-8ddd-c45d189beb35",
   "metadata": {},
   "outputs": [],
   "source": []
  }
 ],
 "metadata": {
  "kernelspec": {
   "display_name": "Python 3 (ipykernel)",
   "language": "python",
   "name": "python3"
  },
  "language_info": {
   "codemirror_mode": {
    "name": "ipython",
    "version": 3
   },
   "file_extension": ".py",
   "mimetype": "text/x-python",
   "name": "python",
   "nbconvert_exporter": "python",
   "pygments_lexer": "ipython3",
   "version": "3.9.2"
  }
 },
 "nbformat": 4,
 "nbformat_minor": 5
}
